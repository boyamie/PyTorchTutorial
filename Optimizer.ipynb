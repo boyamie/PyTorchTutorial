{
  "nbformat": 4,
  "nbformat_minor": 0,
  "metadata": {
    "colab": {
      "provenance": [],
      "authorship_tag": "ABX9TyNuMkljOQ1ATQSEISISP87s"
    },
    "kernelspec": {
      "name": "python3",
      "display_name": "Python 3"
    },
    "language_info": {
      "name": "python"
    }
  },
  "cells": [
    {
      "cell_type": "markdown",
      "source": [
        "`torch.optim`: package implementing various optimization algorithms"
      ],
      "metadata": {
        "id": "c_H9wMtT6vcf"
      }
    },
    {
      "cell_type": "markdown",
      "source": [
        "mnist_softmax code"
      ],
      "metadata": {
        "id": "IP5kDW_C9IQZ"
      }
    },
    {
      "cell_type": "markdown",
      "source": [
        "parameter"
      ],
      "metadata": {
        "id": "k3Ohohiu9xLa"
      }
    },
    {
      "cell_type": "code",
      "execution_count": null,
      "metadata": {
        "id": "YyAwwvm45KWg"
      },
      "outputs": [],
      "source": [
        "learning_rate = 0.001\n",
        "training_epochs = 15\n",
        "batch_size = 100"
      ]
    },
    {
      "cell_type": "markdown",
      "source": [
        "28*28 = 784 MNIST data image shape"
      ],
      "metadata": {
        "id": "VWrok_JS9v3j"
      }
    },
    {
      "cell_type": "code",
      "source": [
        "linear = torch.nn.Linear(784, 10, bias=True).to(device)\n",
        "#입력 784개 출력 10개(0~9)"
      ],
      "metadata": {
        "id": "Wx-oRwsA9vDv"
      },
      "execution_count": null,
      "outputs": []
    },
    {
      "cell_type": "markdown",
      "source": [
        "Initialization"
      ],
      "metadata": {
        "id": "cODgE7SS-JPg"
      }
    },
    {
      "cell_type": "code",
      "source": [
        "torch.nn.init.normal_(linear.weight)"
      ],
      "metadata": {
        "id": "_qesaDP_-MYz"
      },
      "execution_count": null,
      "outputs": []
    },
    {
      "cell_type": "markdown",
      "source": [
        "define cost/Loss & optimizer"
      ],
      "metadata": {
        "id": "5YRYJFOG-QNW"
      }
    },
    {
      "cell_type": "code",
      "source": [
        "criterion = torch.nn.CrossEntropyLoss().to(device)\n",
        "optimizer = torch.nn.Adam(linear.parameters(), lr=learning_rate)\n",
        "#SGD대신 Adam으로 진행"
      ],
      "metadata": {
        "id": "MbvBpkz0-TdJ"
      },
      "execution_count": null,
      "outputs": []
    },
    {
      "cell_type": "markdown",
      "source": [
        "Train"
      ],
      "metadata": {
        "id": "7c6OCYg--s9d"
      }
    },
    {
      "cell_type": "code",
      "source": [
        "total_batch = len(data_loader)\n",
        "for epoch in range(training_epochs):\n",
        "  avg_cost = 0\n",
        "  total_batch = len(data_loader)\n",
        "\n",
        "  for X,Y in data_loader: #image & label\n",
        "    X = X.view(-1, 28*28).to(device)\n",
        "    optimier.zero_grad()\n",
        "    hypothesis = linear(X)\n",
        "    cost = criterion(hypothesis, Y)\n",
        "    cost.backward()\n",
        "    avg_cost += cost / total_batch"
      ],
      "metadata": {
        "id": "XrV_7-pB-vIK"
      },
      "execution_count": null,
      "outputs": []
    },
    {
      "cell_type": "markdown",
      "source": [
        "mnist_nn code"
      ],
      "metadata": {
        "id": "2lDFGNyz_ftV"
      }
    },
    {
      "cell_type": "code",
      "source": [
        "linear1 = torch.nn.Linear(784, 256, bias=True).to(device)\n",
        "linear2 = torch.nn.Linear(256, 256, bias=True).to(device)\n",
        "linear3 = torch.nn.Linear(256, 10, bias=True).to(device)\n",
        "relu = torch.nn.ReLU()\n",
        "\n",
        "torch.nn.init.normal_(linear1.weight)\n",
        "torch.nn.init.normal_(linear2.weight)\n",
        "torch.nn.init.normal_(linear3.weight)\n",
        "\n",
        "model = torch.nn.Sequential(linear1, relu, linear2, relu, linear3).to(device)\n",
        "\n",
        "criterion = torch.nn.CrossEntropyLoss().to(device)\n",
        "optimizer = torch.optim.Adam(model.parameters(), lr = learning_rate)"
      ],
      "metadata": {
        "id": "XLBQI0S2_jZg"
      },
      "execution_count": null,
      "outputs": []
    }
  ]
}