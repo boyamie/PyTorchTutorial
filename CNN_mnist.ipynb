{
  "nbformat": 4,
  "nbformat_minor": 0,
  "metadata": {
    "colab": {
      "provenance": [],
      "authorship_tag": "ABX9TyN7mLEDuUdlkwHG4ylik0e5"
    },
    "kernelspec": {
      "name": "python3",
      "display_name": "Python 3"
    },
    "language_info": {
      "name": "python"
    }
  },
  "cells": [
    {
      "cell_type": "markdown",
      "source": [
        "**Training Step**\n",
        "\n",
        "\n",
        "\n",
        "1.   라이브러리 가져오기(torch,torchvision,matplotlib)\n",
        "2.   GPU 사용설정 & random value seed설정\n",
        "3.   학습에 사용되는 parameter 설정 (lr,epoch,batchsize)\n",
        "4.   dataset,dataLoader\n",
        "5.   class CNN(torch.nn.Module)\n",
        "6.   Loss function(Criterion) & optimizer\n",
        "7.   모델 학습 및 loss check(criterion의 output)\n",
        "8.   학습된 모델의 성능을 확인\n",
        "\n"
      ],
      "metadata": {
        "id": "1rKTdH_H8XuX"
      }
    },
    {
      "cell_type": "code",
      "execution_count": 17,
      "metadata": {
        "colab": {
          "base_uri": "https://localhost:8080/"
        },
        "id": "_cpy4LnN8N3X",
        "outputId": "d69b2c72-f840-4434-8aad-8eef5c9310f0"
      },
      "outputs": [
        {
          "output_type": "execute_result",
          "data": {
            "text/plain": [
              "torch.Size([1, 1, 28, 28])"
            ]
          },
          "metadata": {},
          "execution_count": 17
        }
      ],
      "source": [
        "import torch\n",
        "import torch.nn as nn\n",
        "inputs = torch.Tensor(1,1,28,28) #배치,채널,height,width\n",
        "inputs.shape"
      ]
    },
    {
      "cell_type": "code",
      "source": [
        "conv1 = nn.Conv2d(1,32,3,padding=1) #1채널받음,32채널내보냄,커널사이즈3\n",
        "pool = nn.MaxPool2d(2)\n",
        "pool"
      ],
      "metadata": {
        "colab": {
          "base_uri": "https://localhost:8080/"
        },
        "id": "QEoi0GfuIh-T",
        "outputId": "bc051283-ba6d-41f9-a6bd-9087f616e10b"
      },
      "execution_count": 18,
      "outputs": [
        {
          "output_type": "execute_result",
          "data": {
            "text/plain": [
              "MaxPool2d(kernel_size=2, stride=2, padding=0, dilation=1, ceil_mode=False)"
            ]
          },
          "metadata": {},
          "execution_count": 18
        }
      ]
    },
    {
      "cell_type": "code",
      "source": [
        "conv2 = nn.Conv2d(32,64,3,padding=1)\n",
        "pool = nn.MaxPool2d(2)\n",
        "pool"
      ],
      "metadata": {
        "colab": {
          "base_uri": "https://localhost:8080/"
        },
        "id": "yZQh45kwNroq",
        "outputId": "98bcbf54-9931-4ae9-f734-397e94f8180e"
      },
      "execution_count": 19,
      "outputs": [
        {
          "output_type": "execute_result",
          "data": {
            "text/plain": [
              "MaxPool2d(kernel_size=2, stride=2, padding=0, dilation=1, ceil_mode=False)"
            ]
          },
          "metadata": {},
          "execution_count": 19
        }
      ]
    },
    {
      "cell_type": "code",
      "source": [
        "out = conv1(inputs)\n",
        "out.shape"
      ],
      "metadata": {
        "colab": {
          "base_uri": "https://localhost:8080/"
        },
        "id": "r-AOf70kOi6V",
        "outputId": "c89264ba-92cf-47f7-a8cd-467d88986abd"
      },
      "execution_count": 20,
      "outputs": [
        {
          "output_type": "execute_result",
          "data": {
            "text/plain": [
              "torch.Size([1, 32, 28, 28])"
            ]
          },
          "metadata": {},
          "execution_count": 20
        }
      ]
    },
    {
      "cell_type": "code",
      "source": [
        "out = pool(out)\n",
        "out.shape"
      ],
      "metadata": {
        "colab": {
          "base_uri": "https://localhost:8080/"
        },
        "id": "s9AmQVMrO3bj",
        "outputId": "be608906-3062-48e5-ee14-f691a8e36c8a"
      },
      "execution_count": 21,
      "outputs": [
        {
          "output_type": "execute_result",
          "data": {
            "text/plain": [
              "torch.Size([1, 32, 14, 14])"
            ]
          },
          "metadata": {},
          "execution_count": 21
        }
      ]
    },
    {
      "cell_type": "code",
      "source": [
        "out = conv2(out)\n",
        "out.shape"
      ],
      "metadata": {
        "colab": {
          "base_uri": "https://localhost:8080/"
        },
        "id": "fhfBpsMcPJPm",
        "outputId": "bb5065a1-3bfa-4bc5-ccf8-395bcd104b1f"
      },
      "execution_count": 22,
      "outputs": [
        {
          "output_type": "execute_result",
          "data": {
            "text/plain": [
              "torch.Size([1, 64, 14, 14])"
            ]
          },
          "metadata": {},
          "execution_count": 22
        }
      ]
    },
    {
      "cell_type": "code",
      "source": [
        "out = pool(out)\n",
        "out.shape"
      ],
      "metadata": {
        "colab": {
          "base_uri": "https://localhost:8080/"
        },
        "id": "lF9Ey4qZPXwP",
        "outputId": "f880fce4-a24d-4642-9c4e-ec3e84e34911"
      },
      "execution_count": 23,
      "outputs": [
        {
          "output_type": "execute_result",
          "data": {
            "text/plain": [
              "torch.Size([1, 64, 7, 7])"
            ]
          },
          "metadata": {},
          "execution_count": 23
        }
      ]
    },
    {
      "cell_type": "code",
      "source": [
        "out.size(0)"
      ],
      "metadata": {
        "colab": {
          "base_uri": "https://localhost:8080/"
        },
        "id": "ticCVrSQPf1i",
        "outputId": "194102c8-2418-4142-8a78-6fd7b9842c28"
      },
      "execution_count": 24,
      "outputs": [
        {
          "output_type": "execute_result",
          "data": {
            "text/plain": [
              "1"
            ]
          },
          "metadata": {},
          "execution_count": 24
        }
      ]
    },
    {
      "cell_type": "code",
      "source": [
        "out.size(1)"
      ],
      "metadata": {
        "colab": {
          "base_uri": "https://localhost:8080/"
        },
        "id": "exoVCV_TPqO6",
        "outputId": "fe11bb5e-d7cb-4fa3-f416-8d5a75d8540f"
      },
      "execution_count": 25,
      "outputs": [
        {
          "output_type": "execute_result",
          "data": {
            "text/plain": [
              "64"
            ]
          },
          "metadata": {},
          "execution_count": 25
        }
      ]
    },
    {
      "cell_type": "code",
      "source": [
        "out = out.view(out.size(0), -1)\n",
        "out.shape"
      ],
      "metadata": {
        "colab": {
          "base_uri": "https://localhost:8080/"
        },
        "id": "L7VpeKENPrgU",
        "outputId": "f51c3f20-cba2-4047-9f94-be55dc6e8bd2"
      },
      "execution_count": 26,
      "outputs": [
        {
          "output_type": "execute_result",
          "data": {
            "text/plain": [
              "torch.Size([1, 3136])"
            ]
          },
          "metadata": {},
          "execution_count": 26
        }
      ]
    },
    {
      "cell_type": "code",
      "source": [
        "fc = nn.Linear(3136, 10)\n",
        "out = fc(out)\n",
        "out"
      ],
      "metadata": {
        "colab": {
          "base_uri": "https://localhost:8080/"
        },
        "id": "jS9NaTxwP4ev",
        "outputId": "8495abf4-e18d-4ff9-bce6-8d6d2edeb4f7"
      },
      "execution_count": 27,
      "outputs": [
        {
          "output_type": "execute_result",
          "data": {
            "text/plain": [
              "tensor([[-5.9044e+35,  4.6768e+34,  3.4840e+35,  1.8403e+35,  4.0544e+35,\n",
              "          9.0400e+35, -3.1393e+34,  9.3725e+34, -2.4271e+35,  1.0099e+35]],\n",
              "       grad_fn=<AddmmBackward0>)"
            ]
          },
          "metadata": {},
          "execution_count": 27
        }
      ]
    },
    {
      "cell_type": "code",
      "source": [
        "out.shape #배치사이즈에 맞게 10개의 출력이 된다."
      ],
      "metadata": {
        "colab": {
          "base_uri": "https://localhost:8080/"
        },
        "id": "Bjf4WNRzQSq8",
        "outputId": "a333822b-97f9-440a-e3fe-9abf90a92814"
      },
      "execution_count": 28,
      "outputs": [
        {
          "output_type": "execute_result",
          "data": {
            "text/plain": [
              "torch.Size([1, 10])"
            ]
          },
          "metadata": {},
          "execution_count": 28
        }
      ]
    },
    {
      "cell_type": "markdown",
      "source": [
        "**Implementation**"
      ],
      "metadata": {
        "id": "JNhlQRpyRHpK"
      }
    },
    {
      "cell_type": "code",
      "source": [
        "import torch\n",
        "import torch.nn as nn\n",
        "import torchvision.datasets as dsets\n",
        "import torchvision.transforms as transforms\n",
        "import torch.nn.init"
      ],
      "metadata": {
        "id": "3VYczcQZQoEJ"
      },
      "execution_count": 29,
      "outputs": []
    },
    {
      "cell_type": "code",
      "source": [
        "device = 'cuda' if torch.cuda.is_available() else 'cpu'\n",
        "torch.manual_seed(777) #random value 고정해주는 코드\n",
        "if device == 'cuda':\n",
        "  torch.cuda.manual_seed_all(777)"
      ],
      "metadata": {
        "id": "Vs5j5GGRRbqE"
      },
      "execution_count": 30,
      "outputs": []
    },
    {
      "cell_type": "code",
      "source": [
        "print(device)"
      ],
      "metadata": {
        "colab": {
          "base_uri": "https://localhost:8080/"
        },
        "id": "iIqknrJXO9tt",
        "outputId": "009baa51-7dab-4214-f314-9397526d68bb"
      },
      "execution_count": 31,
      "outputs": [
        {
          "output_type": "stream",
          "name": "stdout",
          "text": [
            "cpu\n"
          ]
        }
      ]
    },
    {
      "cell_type": "code",
      "source": [
        "torch.cuda.is_available()"
      ],
      "metadata": {
        "colab": {
          "base_uri": "https://localhost:8080/"
        },
        "id": "7EVhMPuXPCmh",
        "outputId": "41189234-3c78-4619-ea80-4d74d288f7aa"
      },
      "execution_count": 32,
      "outputs": [
        {
          "output_type": "execute_result",
          "data": {
            "text/plain": [
              "False"
            ]
          },
          "metadata": {},
          "execution_count": 32
        }
      ]
    },
    {
      "cell_type": "code",
      "source": [
        "learning_rate = 0.001\n",
        "training_epochs = 15\n",
        "batch_size = 100"
      ],
      "metadata": {
        "id": "wPS6moNVSud8"
      },
      "execution_count": 33,
      "outputs": []
    },
    {
      "cell_type": "code",
      "source": [
        "mnist_train = dsets.MNIST(root='MNIST_data',\n",
        "                          train=True,\n",
        "                          transform=transforms.ToTensor(),\n",
        "                          download=True)\n",
        "\n",
        "mnist_test = dsets.MNIST(root='MNIST_data/',\n",
        "                         train=False,\n",
        "                         transform=transforms.ToTensor(),\n",
        "                         download=True)"
      ],
      "metadata": {
        "id": "LmTrN4MOMdhi"
      },
      "execution_count": 34,
      "outputs": []
    },
    {
      "cell_type": "code",
      "source": [
        "data_loader = torch.utils.data.DataLoader(dataset = mnist_train,\n",
        "                                          batch_size = batch_size,\n",
        "                                          shuffle = True,\n",
        "                                          drop_last = True)"
      ],
      "metadata": {
        "id": "2-4zTq9HM6Ua"
      },
      "execution_count": 35,
      "outputs": []
    },
    {
      "cell_type": "markdown",
      "source": [
        "CNN model 만들기"
      ],
      "metadata": {
        "id": "ZfNnPZojNSl8"
      }
    },
    {
      "cell_type": "code",
      "source": [
        "class CNN(nn.Module):\n",
        "\n",
        "  def __init__(self):\n",
        "    super(CNN, self).__init__()\n",
        "    self.layer1 = nn.Sequential(\n",
        "        nn.Conv2d(1,32,kernel_size=3, stride=1,padding=1),\n",
        "        nn.ReLU(),\n",
        "        nn.MaxPool2d(2)\n",
        "    )\n",
        "    self.layer2 = nn.Sequential(\n",
        "        nn.Conv2d(32,64,kernel_size=3, stride=1, padding=1),\n",
        "        nn.ReLU(),\n",
        "        nn.MaxPool2d(2)\n",
        "    )\n",
        "\n",
        "    self.fc = nn.Linear(7*7*64, 10, bias = True)\n",
        "    torch.nn.init.xavier_uniform_(self.fc.weight) #먼저 초기화 시켜줌\n",
        "\n",
        "  def forward(self,x):\n",
        "    out = self.layer1(x)\n",
        "    out = self.layer2(out)\n",
        "\n",
        "    out = out.view(out.size(0), -1)\n",
        "    out = self.fc(out)\n",
        "    return out\n"
      ],
      "metadata": {
        "id": "ZyLk9gktNUuJ"
      },
      "execution_count": 36,
      "outputs": []
    },
    {
      "cell_type": "code",
      "source": [
        "model = CNN().to(device)\n",
        "model"
      ],
      "metadata": {
        "colab": {
          "base_uri": "https://localhost:8080/"
        },
        "id": "8w9j6ed5PLju",
        "outputId": "03c5fdb4-5fcf-4cee-bc44-d36d46f739f4"
      },
      "execution_count": 37,
      "outputs": [
        {
          "output_type": "execute_result",
          "data": {
            "text/plain": [
              "CNN(\n",
              "  (layer1): Sequential(\n",
              "    (0): Conv2d(1, 32, kernel_size=(3, 3), stride=(1, 1), padding=(1, 1))\n",
              "    (1): ReLU()\n",
              "    (2): MaxPool2d(kernel_size=2, stride=2, padding=0, dilation=1, ceil_mode=False)\n",
              "  )\n",
              "  (layer2): Sequential(\n",
              "    (0): Conv2d(32, 64, kernel_size=(3, 3), stride=(1, 1), padding=(1, 1))\n",
              "    (1): ReLU()\n",
              "    (2): MaxPool2d(kernel_size=2, stride=2, padding=0, dilation=1, ceil_mode=False)\n",
              "  )\n",
              "  (fc): Linear(in_features=3136, out_features=10, bias=True)\n",
              ")"
            ]
          },
          "metadata": {},
          "execution_count": 37
        }
      ]
    },
    {
      "cell_type": "code",
      "source": [
        "criterion = nn.CrossEntropyLoss().to(device)\n",
        "optimizer = torch.optim.Adam(model.parameters(),lr = learning_rate)"
      ],
      "metadata": {
        "id": "3ecImCbQPP6H"
      },
      "execution_count": 38,
      "outputs": []
    },
    {
      "cell_type": "markdown",
      "source": [
        "Training"
      ],
      "metadata": {
        "id": "9l-d2O24PwUt"
      }
    },
    {
      "cell_type": "code",
      "source": [
        "total_batch = len(data_loader)\n",
        "\n",
        "for epoch in range(training_epochs):\n",
        "  avg_cost = 0 #loss 담는 곳\n",
        "\n",
        "  for X, Y in data_loader: #input,label\n",
        "    X = X.to(device)\n",
        "    Y = Y.to(device)\n",
        "\n",
        "    optimizer.zero_grad() #중요!\n",
        "    hypothesis = model(X) #모델에 input값을 넣어서 출력이 가설이 됨\n",
        "\n",
        "    cost = criterion(hypothesis, Y)\n",
        "    cost.backward()\n",
        "    optimizer.step() #backward된 cost를 토대로 optimizer가 모델을 학습\n",
        "\n",
        "    avg_cost += cost / total_batch #cost쌓기\n",
        "\n",
        "  print('[Epoch:{}] cost = {}'.format((epoch+1), avg_cost))\n",
        "\n",
        "print('Learning Finished')"
      ],
      "metadata": {
        "colab": {
          "base_uri": "https://localhost:8080/"
        },
        "id": "L5Cgd2CzPmvY",
        "outputId": "b7e0f112-35ba-4789-c694-322fdfc0539c"
      },
      "execution_count": 39,
      "outputs": [
        {
          "output_type": "stream",
          "name": "stdout",
          "text": [
            "[Epoch:1] cost = 0.2255602478981018\n",
            "[Epoch:2] cost = 0.06305518746376038\n",
            "[Epoch:3] cost = 0.04626815766096115\n",
            "[Epoch:4] cost = 0.037433922290802\n",
            "[Epoch:5] cost = 0.031403716653585434\n",
            "[Epoch:6] cost = 0.026141438633203506\n",
            "[Epoch:7] cost = 0.021627798676490784\n",
            "[Epoch:8] cost = 0.017972556874155998\n",
            "[Epoch:9] cost = 0.015809405595064163\n",
            "[Epoch:10] cost = 0.013176409527659416\n",
            "[Epoch:11] cost = 0.009952100925147533\n",
            "[Epoch:12] cost = 0.009574058465659618\n",
            "[Epoch:13] cost = 0.008271911181509495\n",
            "[Epoch:14] cost = 0.0065953838638961315\n",
            "[Epoch:15] cost = 0.005892841145396233\n",
            "Learning Finished\n"
          ]
        }
      ]
    },
    {
      "cell_type": "code",
      "source": [
        "with torch.no_grad(): # 학습을 안해서 no gradient\n",
        "  X_test = mnist_test.test_data.view(len(mnist_test),1,28,28).float().to(device)\n",
        "  Y_test = mnist_test.test_labels.to(device)\n",
        "\n",
        "  prediction = model(X_test)\n",
        "  correct_prediction = torch.argmax(prediction, 1) == Y_test\n",
        "  accuracy = correct_prediction.float().mean()\n",
        "  print('Accuracy:',accuracy.item())"
      ],
      "metadata": {
        "colab": {
          "base_uri": "https://localhost:8080/"
        },
        "id": "i6ssb6cIHxjH",
        "outputId": "4ce6bda0-2ae8-484d-c2ea-e908a3b25838"
      },
      "execution_count": 41,
      "outputs": [
        {
          "output_type": "stream",
          "name": "stderr",
          "text": [
            "/usr/local/lib/python3.10/dist-packages/torchvision/datasets/mnist.py:81: UserWarning: test_data has been renamed data\n",
            "  warnings.warn(\"test_data has been renamed data\")\n",
            "/usr/local/lib/python3.10/dist-packages/torchvision/datasets/mnist.py:71: UserWarning: test_labels has been renamed targets\n",
            "  warnings.warn(\"test_labels has been renamed targets\")\n"
          ]
        },
        {
          "output_type": "stream",
          "name": "stdout",
          "text": [
            "Accuracy: 0.9883999824523926\n"
          ]
        }
      ]
    },
    {
      "cell_type": "markdown",
      "source": [
        "레이어 추가해보기"
      ],
      "metadata": {
        "id": "ymwt6xlmJKrW"
      }
    },
    {
      "cell_type": "code",
      "source": [
        "class CNN(nn.Module):\n",
        "\n",
        "  def __init__(self):\n",
        "    super(CNN, self).__init__()\n",
        "    self.layer1 = nn.Sequential(\n",
        "        nn.Conv2d(1,32,kernel_size=3, stride=1,padding=1),\n",
        "        nn.ReLU(),\n",
        "        nn.MaxPool2d(2)\n",
        "    )\n",
        "    self.layer2 = nn.Sequential(\n",
        "        nn.Conv2d(32,64,kernel_size=3, stride=1, padding=1),\n",
        "        nn.ReLU(),\n",
        "        nn.MaxPool2d(2)\n",
        "    )\n",
        "    self.layer3 = nn.Sequential(\n",
        "        nn.Conv2d(64,128,kernel_size=3,stride=1,padding=1),\n",
        "        nn.ReLU(),\n",
        "        nn.MaxPool2d(2)\n",
        "    )\n",
        "\n",
        "    self.fc1 = nn.Linear(3*3*128,625)\n",
        "    self.relu = nn.ReLU()\n",
        "    self.fc2 = nn.Linear(625, 10, bias = True)\n",
        "    torch.nn.init.xavier_uniform_(self.fc1.weight) #먼저 초기화 시켜줌\n",
        "    torch.nn.init.xavier_uniform_(self.fc2.weight)\n",
        "\n",
        "  def forward(self,x):\n",
        "    out = self.layer1(x)\n",
        "    out = self.layer2(out)\n",
        "    out = self.layer3(out)\n",
        "\n",
        "    out = out.view(out.size(0), -1)\n",
        "    out = self.fc1(out)\n",
        "    out = self.relu(out)\n",
        "    out = self.fc2(out)\n",
        "    return out"
      ],
      "metadata": {
        "id": "775mdHI4It6-"
      },
      "execution_count": 50,
      "outputs": []
    },
    {
      "cell_type": "code",
      "source": [
        "model = CNN().to(device)\n",
        "print(model)"
      ],
      "metadata": {
        "colab": {
          "base_uri": "https://localhost:8080/"
        },
        "id": "e1pOfzzDOmdt",
        "outputId": "5c6343b1-a7a0-438a-bf14-47dab4639acb"
      },
      "execution_count": 51,
      "outputs": [
        {
          "output_type": "stream",
          "name": "stdout",
          "text": [
            "CNN(\n",
            "  (layer1): Sequential(\n",
            "    (0): Conv2d(1, 32, kernel_size=(3, 3), stride=(1, 1), padding=(1, 1))\n",
            "    (1): ReLU()\n",
            "    (2): MaxPool2d(kernel_size=2, stride=2, padding=0, dilation=1, ceil_mode=False)\n",
            "  )\n",
            "  (layer2): Sequential(\n",
            "    (0): Conv2d(32, 64, kernel_size=(3, 3), stride=(1, 1), padding=(1, 1))\n",
            "    (1): ReLU()\n",
            "    (2): MaxPool2d(kernel_size=2, stride=2, padding=0, dilation=1, ceil_mode=False)\n",
            "  )\n",
            "  (layer3): Sequential(\n",
            "    (0): Conv2d(64, 128, kernel_size=(3, 3), stride=(1, 1), padding=(1, 1))\n",
            "    (1): ReLU()\n",
            "    (2): MaxPool2d(kernel_size=2, stride=2, padding=0, dilation=1, ceil_mode=False)\n",
            "  )\n",
            "  (fc1): Linear(in_features=1152, out_features=625, bias=True)\n",
            "  (relu): ReLU()\n",
            "  (fc2): Linear(in_features=625, out_features=10, bias=True)\n",
            ")\n"
          ]
        }
      ]
    },
    {
      "cell_type": "markdown",
      "source": [
        "model test"
      ],
      "metadata": {
        "id": "8_e_9Xt-Ozew"
      }
    },
    {
      "cell_type": "code",
      "source": [
        "value = torch.Tensor(1,1,28,28).to(device)\n",
        "print((model(value)).shape)"
      ],
      "metadata": {
        "colab": {
          "base_uri": "https://localhost:8080/"
        },
        "id": "8tc7j-VPO2B8",
        "outputId": "632b933d-e355-4251-a921-101c14e605db"
      },
      "execution_count": 52,
      "outputs": [
        {
          "output_type": "stream",
          "name": "stdout",
          "text": [
            "torch.Size([1, 10])\n"
          ]
        }
      ]
    },
    {
      "cell_type": "code",
      "source": [
        "criterion = nn.CrossEntropyLoss().to(device)\n",
        "optimizer = torch.optim.Adam(model.parameters(),lr=learning_rate)"
      ],
      "metadata": {
        "id": "gMDmif-JP2bD"
      },
      "execution_count": 53,
      "outputs": []
    },
    {
      "cell_type": "code",
      "source": [
        "total_batch = len(data_loader)\n",
        "\n",
        "for epoch in range(training_epochs):\n",
        "  avg_cost = 0 #loss 담는 곳\n",
        "\n",
        "  for X, Y in data_loader: #input,label\n",
        "    X = X.to(device)\n",
        "    Y = Y.to(device)\n",
        "\n",
        "    optimizer.zero_grad() #중요!\n",
        "    hypothesis = model(X) #모델에 input값을 넣어서 출력이 가설이 됨\n",
        "\n",
        "    cost = criterion(hypothesis, Y)\n",
        "    cost.backward()\n",
        "    optimizer.step() #backward된 cost를 토대로 optimizer가 모델을 학습\n",
        "\n",
        "    avg_cost += cost / total_batch #cost쌓기\n",
        "\n",
        "  print('[Epoch:{}] cost = {}'.format((epoch+1), avg_cost))\n",
        "\n",
        "print('Learning Finished')"
      ],
      "metadata": {
        "colab": {
          "base_uri": "https://localhost:8080/"
        },
        "id": "5hzBEdRQQCtW",
        "outputId": "da997a67-bf30-438a-9b31-a6c8aa0a0938"
      },
      "execution_count": 54,
      "outputs": [
        {
          "output_type": "stream",
          "name": "stdout",
          "text": [
            "[Epoch:1] cost = 0.15909835696220398\n",
            "[Epoch:2] cost = 0.04328387975692749\n",
            "[Epoch:3] cost = 0.028711965307593346\n",
            "[Epoch:4] cost = 0.02256103977560997\n",
            "[Epoch:5] cost = 0.017939278855919838\n",
            "[Epoch:6] cost = 0.014591354876756668\n",
            "[Epoch:7] cost = 0.01111175399273634\n",
            "[Epoch:8] cost = 0.009980181232094765\n",
            "[Epoch:9] cost = 0.010132871568202972\n",
            "[Epoch:10] cost = 0.008767729625105858\n",
            "[Epoch:11] cost = 0.007938203401863575\n",
            "[Epoch:12] cost = 0.00609720591455698\n",
            "[Epoch:13] cost = 0.005922747775912285\n",
            "[Epoch:14] cost = 0.003890826366841793\n",
            "[Epoch:15] cost = 0.0066936323419213295\n",
            "Learning Finished\n"
          ]
        }
      ]
    },
    {
      "cell_type": "code",
      "source": [
        "with torch.no_grad(): # 학습을 안해서 no gradient\n",
        "  X_test = mnist_test.test_data.view(len(mnist_test),1,28,28).float().to(device)\n",
        "  Y_test = mnist_test.test_labels.to(device)\n",
        "\n",
        "  prediction = model(X_test)\n",
        "  correct_prediction = torch.argmax(prediction, 1) == Y_test\n",
        "  accuracy = correct_prediction.float().mean()\n",
        "  print('Accuracy:',accuracy.item())"
      ],
      "metadata": {
        "colab": {
          "base_uri": "https://localhost:8080/"
        },
        "id": "qn30ypdhQKUb",
        "outputId": "8f53bd9a-8194-476a-fc81-8d8016971c1d"
      },
      "execution_count": 55,
      "outputs": [
        {
          "output_type": "stream",
          "name": "stderr",
          "text": [
            "/usr/local/lib/python3.10/dist-packages/torchvision/datasets/mnist.py:81: UserWarning: test_data has been renamed data\n",
            "  warnings.warn(\"test_data has been renamed data\")\n",
            "/usr/local/lib/python3.10/dist-packages/torchvision/datasets/mnist.py:71: UserWarning: test_labels has been renamed targets\n",
            "  warnings.warn(\"test_labels has been renamed targets\")\n"
          ]
        },
        {
          "output_type": "stream",
          "name": "stdout",
          "text": [
            "Accuracy: 0.9825000166893005\n"
          ]
        }
      ]
    },
    {
      "cell_type": "markdown",
      "source": [
        "오히려 Accuracy 떨어짐"
      ],
      "metadata": {
        "id": "o2gb7wsyXL_d"
      }
    }
  ]
}