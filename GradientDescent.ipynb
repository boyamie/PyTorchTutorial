{
  "nbformat": 4,
  "nbformat_minor": 0,
  "metadata": {
    "colab": {
      "provenance": [],
      "authorship_tag": "ABX9TyN6sNAa+MQwnTA4GqmY40Od"
    },
    "kernelspec": {
      "name": "python3",
      "display_name": "Python 3"
    },
    "language_info": {
      "name": "python"
    }
  },
  "cells": [
    {
      "cell_type": "markdown",
      "source": [
        "Cost function을 최소화: 기울기 양수일 때 w가 작아져야하고 기울기가 음수일 때 w가 커져야한다."
      ],
      "metadata": {
        "id": "TP9fWGjyixBI"
      }
    },
    {
      "cell_type": "code",
      "source": [
        "import torch"
      ],
      "metadata": {
        "id": "6x6KtlWAjuFo"
      },
      "execution_count": 2,
      "outputs": []
    },
    {
      "cell_type": "markdown",
      "source": [
        "데이터"
      ],
      "metadata": {
        "id": "TT-7FANZjLOH"
      }
    },
    {
      "cell_type": "code",
      "execution_count": 3,
      "metadata": {
        "id": "S37GG1p3ip5E"
      },
      "outputs": [],
      "source": [
        "X_train = torch.FloatTensor([[1],[2],[3]])\n",
        "y_train = torch.FloatTensor([[1],[2],[3]])"
      ]
    },
    {
      "cell_type": "markdown",
      "source": [
        "모델초기화"
      ],
      "metadata": {
        "id": "gmzk4h3PjieI"
      }
    },
    {
      "cell_type": "code",
      "source": [
        "W = torch.zeros(1)"
      ],
      "metadata": {
        "id": "TdHsrFFTjm6P"
      },
      "execution_count": 4,
      "outputs": []
    },
    {
      "cell_type": "markdown",
      "source": [
        "Learning rate 설정"
      ],
      "metadata": {
        "id": "-s2sqYCujzQo"
      }
    },
    {
      "cell_type": "code",
      "source": [
        "lr = 0.1"
      ],
      "metadata": {
        "id": "x_0m8nxSj18P"
      },
      "execution_count": 5,
      "outputs": []
    },
    {
      "cell_type": "markdown",
      "source": [
        "H(x)계산, cost gradient 계산, cost gradient로 H(x)계산"
      ],
      "metadata": {
        "id": "1WDLKM98kEzB"
      }
    },
    {
      "cell_type": "code",
      "source": [
        "nb_epochs = 10\n",
        "for epoch in range(nb_epochs + 1):\n",
        "  hypothesis = X_train * W\n",
        "  cost = torch.mean((hypothesis - y_train)**2)\n",
        "  gradient = torch.sum((W * X_train - y_train) * X_train)\n",
        "\n",
        "  print('Epoch {:4d}/{} W: {:.3f}, Cost: {:.6f}'.format(\n",
        "      epoch, nb_epochs, W.item(), cost.item()\n",
        "  ))\n",
        "  W -= lr * gradient"
      ],
      "metadata": {
        "colab": {
          "base_uri": "https://localhost:8080/"
        },
        "id": "IU6lTtU3j6LV",
        "outputId": "fab71a33-e2f5-4656-cf0b-95dde1f7b086"
      },
      "execution_count": 6,
      "outputs": [
        {
          "output_type": "stream",
          "name": "stdout",
          "text": [
            "Epoch    0/10 W: 0.000, Cost: 4.666667\n",
            "Epoch    1/10 W: 1.400, Cost: 0.746666\n",
            "Epoch    2/10 W: 0.840, Cost: 0.119467\n",
            "Epoch    3/10 W: 1.064, Cost: 0.019115\n",
            "Epoch    4/10 W: 0.974, Cost: 0.003058\n",
            "Epoch    5/10 W: 1.010, Cost: 0.000489\n",
            "Epoch    6/10 W: 0.996, Cost: 0.000078\n",
            "Epoch    7/10 W: 1.002, Cost: 0.000013\n",
            "Epoch    8/10 W: 0.999, Cost: 0.000002\n",
            "Epoch    9/10 W: 1.000, Cost: 0.000000\n",
            "Epoch   10/10 W: 1.000, Cost: 0.000000\n"
          ]
        }
      ]
    },
    {
      "cell_type": "markdown",
      "source": [
        "epoch가 늘어날수록 W가 1에 수렴하고 cost는 줄어든다."
      ],
      "metadata": {
        "id": "ggo9by_Ik_BG"
      }
    },
    {
      "cell_type": "markdown",
      "source": [
        "**torch.optim**으로도 가능\n",
        "\n",
        "\n",
        "1.   시작할 때 optimizer 정의\n",
        "2.   optimizer.zero_grad()로 gradient를 0으로 초기화\n",
        "3.   cost.backward()로 gradient계산\n",
        "4.   optimizer.step()으로 gradient descent\n",
        "\n"
      ],
      "metadata": {
        "id": "yQJgqZ50lIr1"
      }
    },
    {
      "cell_type": "code",
      "source": [
        "from torch import optim"
      ],
      "metadata": {
        "id": "LoaLIYBUltOI"
      },
      "execution_count": 8,
      "outputs": []
    },
    {
      "cell_type": "code",
      "source": [
        "X_train = torch.FloatTensor([[1],[2],[3]])\n",
        "y_train = torch.FloatTensor([[1],[2],[3]])\n",
        "\n",
        "W = torch.zeros(1, requires_grad=True)\n",
        "\n",
        "optimizer = optim.SGD([W], lr=0.15)\n",
        "\n",
        "nb_epochs = 10\n",
        "for epoch in range(nb_epochs+1):\n",
        "  hypothesis = X_train * W\n",
        "  cost = torch.mean((hypothesis - y_train)**2)\n",
        "\n",
        "  print('Epoch {:4d}/{} W: {:.3f}, Cost: {:.6f}'.format(\n",
        "      epoch, nb_epochs, W.item(), cost.item()\n",
        "  ))\n",
        "\n",
        "  optimizer.zero_grad()\n",
        "  cost.backward()\n",
        "  optimizer.step()"
      ],
      "metadata": {
        "colab": {
          "base_uri": "https://localhost:8080/"
        },
        "id": "g2Oidlq5mT57",
        "outputId": "0ef62cc4-855c-4122-fd57-b1c5062ee848"
      },
      "execution_count": 10,
      "outputs": [
        {
          "output_type": "stream",
          "name": "stdout",
          "text": [
            "Epoch    0/10 W: 0.000, Cost: 4.666667\n",
            "Epoch    1/10 W: 1.400, Cost: 0.746667\n",
            "Epoch    2/10 W: 0.840, Cost: 0.119467\n",
            "Epoch    3/10 W: 1.064, Cost: 0.019115\n",
            "Epoch    4/10 W: 0.974, Cost: 0.003058\n",
            "Epoch    5/10 W: 1.010, Cost: 0.000489\n",
            "Epoch    6/10 W: 0.996, Cost: 0.000078\n",
            "Epoch    7/10 W: 1.002, Cost: 0.000013\n",
            "Epoch    8/10 W: 0.999, Cost: 0.000002\n",
            "Epoch    9/10 W: 1.000, Cost: 0.000000\n",
            "Epoch   10/10 W: 1.000, Cost: 0.000000\n"
          ]
        }
      ]
    }
  ]
}